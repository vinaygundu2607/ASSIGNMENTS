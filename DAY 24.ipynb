{
 "cells": [
  {
   "cell_type": "code",
   "execution_count": 2,
   "id": "71f7aab3",
   "metadata": {},
   "outputs": [
    {
     "name": "stdout",
     "output_type": "stream",
     "text": [
      "10 Most Common Words:\n",
      "name: 1\n",
      "age: 1\n",
      "job: 1\n",
      "student: 1\n",
      "developer: 1\n",
      "teacher: 1\n",
      "dentist: 1\n",
      "manager: 1\n",
      "intern: 1\n"
     ]
    },
    {
     "name": "stderr",
     "output_type": "stream",
     "text": [
      "[nltk_data] Downloading package punkt to\n",
      "[nltk_data]     C:\\Users\\RAJINIKANTH\\AppData\\Roaming\\nltk_data...\n",
      "[nltk_data]   Package punkt is already up-to-date!\n"
     ]
    }
   ],
   "source": [
    "import nltk\n",
    "from nltk.tokenize import word_tokenize\n",
    "from nltk.probability import FreqDist\n",
    "import string\n",
    "\n",
    "# Ensure you have the necessary NLTK resources\n",
    "nltk.download('punkt')\n",
    "\n",
    "def load_text_file(file_path):\n",
    "    with open(file_path, 'r', encoding='utf-8') as file:\n",
    "        return file.read()\n",
    "\n",
    "def preprocess_text(text):\n",
    "    tokens = word_tokenize(text.lower())  # Convert to lowercase and tokenize\n",
    "    tokens = [word for word in tokens if word.isalnum()]  # Remove punctuation\n",
    "    return tokens\n",
    "\n",
    "def get_most_common_words(tokens, n=10):\n",
    "    freq_dist = FreqDist(tokens)\n",
    "    return freq_dist.most_common(n)\n",
    "\n",
    "if __name__ == \"__main__\":\n",
    "    file_path = \"friend_list.txt\"  # Change this to your text file path\n",
    "    text = load_text_file(file_path)\n",
    "    tokens = preprocess_text(text)\n",
    "    common_words = get_most_common_words(tokens)\n",
    "    \n",
    "    print(\"10 Most Common Words:\")\n",
    "    for word, freq in common_words:\n",
    "        print(f\"{word}: {freq}\")\n"
   ]
  },
  {
   "cell_type": "code",
   "execution_count": null,
   "id": "65daec29",
   "metadata": {},
   "outputs": [],
   "source": []
  }
 ],
 "metadata": {
  "kernelspec": {
   "display_name": "Python 3 (ipykernel)",
   "language": "python",
   "name": "python3"
  },
  "language_info": {
   "codemirror_mode": {
    "name": "ipython",
    "version": 3
   },
   "file_extension": ".py",
   "mimetype": "text/x-python",
   "name": "python",
   "nbconvert_exporter": "python",
   "pygments_lexer": "ipython3",
   "version": "3.11.5"
  }
 },
 "nbformat": 4,
 "nbformat_minor": 5
}
