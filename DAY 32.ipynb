{
 "cells": [
  {
   "cell_type": "code",
   "execution_count": 10,
   "id": "a33625bb",
   "metadata": {},
   "outputs": [
    {
     "name": "stdout",
     "output_type": "stream",
     "text": [
      "Top 5 most frequent tokens:\n",
      "30: 2\n",
      "name: 1\n",
      "age: 1\n",
      "job: 1\n",
      "john: 1\n"
     ]
    }
   ],
   "source": [
    "from collections import Counter\n",
    "import re\n",
    "\n",
    "# Function to load the text file\n",
    "def load_text(file_path):\n",
    "    with open(file_path, 'r') as file:\n",
    "        return file.read()\n",
    "\n",
    "# Function to tokenize the text\n",
    "def tokenize(text):\n",
    "    tokens = re.findall(r'\\b\\w+\\b', text.lower())  # Tokenize and convert to lowercase\n",
    "    return tokens\n",
    "\n",
    "# Function to calculate term frequency\n",
    "def calculate_tf(tokens):\n",
    "    return Counter(tokens)\n",
    "\n",
    "# Load text from a file\n",
    "file_path = 'friend_list.txt'  # Replace with your file path\n",
    "text = load_text(file_path)\n",
    "\n",
    "# Tokenize the text\n",
    "tokens = tokenize(text)\n",
    "\n",
    "# Calculate term frequency\n",
    "tf = calculate_tf(tokens)\n",
    "\n",
    "# Get the top 5 most frequent tokens\n",
    "top_5_tokens = tf.most_common(5)\n",
    "\n",
    "# Display the top 5 tokens\n",
    "print(\"Top 5 most frequent tokens:\")\n",
    "for token, frequency in top_5_tokens:\n",
    "    print(f\"{token}: {frequency}\")\n"
   ]
  },
  {
   "cell_type": "code",
   "execution_count": null,
   "id": "adf80fee",
   "metadata": {},
   "outputs": [],
   "source": []
  }
 ],
 "metadata": {
  "kernelspec": {
   "display_name": "Python 3 (ipykernel)",
   "language": "python",
   "name": "python3"
  },
  "language_info": {
   "codemirror_mode": {
    "name": "ipython",
    "version": 3
   },
   "file_extension": ".py",
   "mimetype": "text/x-python",
   "name": "python",
   "nbconvert_exporter": "python",
   "pygments_lexer": "ipython3",
   "version": "3.11.5"
  }
 },
 "nbformat": 4,
 "nbformat_minor": 5
}
